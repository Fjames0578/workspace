{
 "cells": [
  {
   "cell_type": "code",
   "execution_count": null,
   "metadata": {},
   "outputs": [],
   "source": []
  },
  {
   "cell_type": "code",
   "execution_count": 8,
   "metadata": {},
   "outputs": [],
   "source": []
  },
  {
   "cell_type": "code",
   "execution_count": null,
   "metadata": {},
   "outputs": [],
   "source": []
  },
  {
   "cell_type": "code",
   "execution_count": 9,
   "metadata": {},
   "outputs": [],
   "source": [
    "import numpy as np\n",
    "\n",
    "def sigmoid(x):\n",
    "    return 1 / (1 + np.exp(-x))\n",
    "\n",
    "def sigmoid_derivative(x):\n",
    "    return x * (1 - x)\n",
    "\n",
    "# Initialize network parameters\n",
    "input_size = 3\n",
    "hidden_size = 4\n",
    "output_size = 1\n",
    "learning_rate = 0.1\n",
    "batch_size = 10  # Number of samples per batch\n",
    "\n",
    "# Initialize weights and biases\n",
    "weights_input_hidden = np.random.rand(input_size, hidden_size)\n",
    "bias_hidden = np.random.rand(1, hidden_size)\n",
    "weights_hidden_output = np.random.rand(hidden_size, output_size)\n",
    "bias_output = np.random.rand(1, output_size)\n",
    "\n",
    "# Example input (X) and output (Y) data\n",
    "X = np.random.rand(100, input_size)  # 100 samples, 3 features each\n",
    "Y = np.random.rand(100, output_size)  # 100 samples, 1 output each\n",
    "\n",
    "# Training the MLP\n",
    "for epoch in range(1000):\n",
    "    for i in range(0, X.shape[0], batch_size):\n",
    "        x_batch = X[i:i+batch_size]\n",
    "        y_batch = Y[i:i+batch_size]\n",
    "        \n",
    "        # Forward propagation\n",
    "        input_layer = x_batch\n",
    "        hidden_layer_input = np.dot(input_layer, weights_input_hidden) + bias_hidden\n",
    "        hidden_layer_output = sigmoid(hidden_layer_input)\n",
    "        final_output = sigmoid(np.dot(hidden_layer_output, weights_hidden_output) + bias_output)\n",
    "        \n",
    "        # Calculate error\n",
    "        error = y_batch - final_output\n",
    "        \n",
    "        # Backward propagation\n",
    "        d_output = error * sigmoid_derivative(final_output)\n",
    "        error_hidden_layer = d_output.dot(weights_hidden_output.T)\n",
    "        d_hidden_layer = error_hidden_layer * sigmoid_derivative(hidden_layer_output)\n",
    "        \n",
    "        # Update weights and biases\n",
    "        weights_hidden_output += hidden_layer_output.T.dot(d_output) * learning_rate\n",
    "        bias_output += np.sum(d_output, axis=0, keepdims=True) * learning_rate\n",
    "        weights_input_hidden += input_layer.T.dot(d_hidden_layer) * learning_rate\n",
    "        bias_hidden += np.sum(d_hidden_layer, axis=0, keepdims=True) * learning_rate"
   ]
  }
 ],
 "metadata": {
  "kernelspec": {
   "display_name": "Python 3",
   "language": "python",
   "name": "python3"
  },
  "language_info": {
   "codemirror_mode": {
    "name": "ipython",
    "version": 3
   },
   "file_extension": ".py",
   "mimetype": "text/x-python",
   "name": "python",
   "nbconvert_exporter": "python",
   "pygments_lexer": "ipython3",
   "version": "3.11.8"
  }
 },
 "nbformat": 4,
 "nbformat_minor": 2
}
